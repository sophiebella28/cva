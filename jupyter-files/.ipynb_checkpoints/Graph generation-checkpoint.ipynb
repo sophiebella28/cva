{
 "cells": [
  {
   "cell_type": "code",
   "execution_count": 3,
   "metadata": {},
   "outputs": [],
   "source": [
    "import pandas as pd"
   ]
  },
  {
   "cell_type": "code",
   "execution_count": 10,
   "metadata": {},
   "outputs": [],
   "source": [
    "parquet_file = \"../basic-market-cva/outputs/727f12da-fd9f-4350-896b-8b72e8012d5d/runs\""
   ]
  },
  {
   "cell_type": "code",
   "execution_count": 11,
   "metadata": {
    "scrolled": true
   },
   "outputs": [
    {
     "data": {
      "text/html": [
       "<div>\n",
       "<style scoped>\n",
       "    .dataframe tbody tr th:only-of-type {\n",
       "        vertical-align: middle;\n",
       "    }\n",
       "\n",
       "    .dataframe tbody tr th {\n",
       "        vertical-align: top;\n",
       "    }\n",
       "\n",
       "    .dataframe thead th {\n",
       "        text-align: right;\n",
       "    }\n",
       "</style>\n",
       "<table border=\"1\" class=\"dataframe\">\n",
       "  <thead>\n",
       "    <tr style=\"text-align: right;\">\n",
       "      <th></th>\n",
       "      <th>PricingDesk</th>\n",
       "    </tr>\n",
       "  </thead>\n",
       "  <tbody>\n",
       "    <tr>\n",
       "      <td>0</td>\n",
       "      <td>{'cvaPercent': '0.0', 'numberOfAssets': '100.0...</td>\n",
       "    </tr>\n",
       "    <tr>\n",
       "      <td>1</td>\n",
       "      <td>{'cvaPercent': '0.12290214563146462', 'numberO...</td>\n",
       "    </tr>\n",
       "    <tr>\n",
       "      <td>2</td>\n",
       "      <td>{'cvaPercent': '0.28117301702115105', 'numberO...</td>\n",
       "    </tr>\n",
       "    <tr>\n",
       "      <td>3</td>\n",
       "      <td>{'cvaPercent': '0.3030051684826318', 'numberOf...</td>\n",
       "    </tr>\n",
       "    <tr>\n",
       "      <td>4</td>\n",
       "      <td>{'cvaPercent': '0.24497748543227194', 'numberO...</td>\n",
       "    </tr>\n",
       "    <tr>\n",
       "      <td>...</td>\n",
       "      <td>...</td>\n",
       "    </tr>\n",
       "    <tr>\n",
       "      <td>96</td>\n",
       "      <td>{'cvaPercent': '0.8000127254510042', 'numberOf...</td>\n",
       "    </tr>\n",
       "    <tr>\n",
       "      <td>97</td>\n",
       "      <td>{'cvaPercent': '0.806238280779413', 'numberOfA...</td>\n",
       "    </tr>\n",
       "    <tr>\n",
       "      <td>98</td>\n",
       "      <td>{'cvaPercent': '0.6387090935341643', 'numberOf...</td>\n",
       "    </tr>\n",
       "    <tr>\n",
       "      <td>99</td>\n",
       "      <td>{'cvaPercent': '0.4971695279486811', 'numberOf...</td>\n",
       "    </tr>\n",
       "    <tr>\n",
       "      <td>100</td>\n",
       "      <td>{'cvaPercent': '0.49952483876887255', 'numberO...</td>\n",
       "    </tr>\n",
       "  </tbody>\n",
       "</table>\n",
       "<p>101 rows × 1 columns</p>\n",
       "</div>"
      ],
      "text/plain": [
       "                                           PricingDesk\n",
       "0    {'cvaPercent': '0.0', 'numberOfAssets': '100.0...\n",
       "1    {'cvaPercent': '0.12290214563146462', 'numberO...\n",
       "2    {'cvaPercent': '0.28117301702115105', 'numberO...\n",
       "3    {'cvaPercent': '0.3030051684826318', 'numberOf...\n",
       "4    {'cvaPercent': '0.24497748543227194', 'numberO...\n",
       "..                                                 ...\n",
       "96   {'cvaPercent': '0.8000127254510042', 'numberOf...\n",
       "97   {'cvaPercent': '0.806238280779413', 'numberOfA...\n",
       "98   {'cvaPercent': '0.6387090935341643', 'numberOf...\n",
       "99   {'cvaPercent': '0.4971695279486811', 'numberOf...\n",
       "100  {'cvaPercent': '0.49952483876887255', 'numberO...\n",
       "\n",
       "[101 rows x 1 columns]"
      ]
     },
     "execution_count": 11,
     "metadata": {},
     "output_type": "execute_result"
    }
   ],
   "source": [
    "pd.read_parquet(parquet_file, engine='auto')"
   ]
  },
  {
   "cell_type": "code",
   "execution_count": null,
   "metadata": {},
   "outputs": [],
   "source": []
  }
 ],
 "metadata": {
  "kernelspec": {
   "display_name": "Python 3",
   "language": "python",
   "name": "python3"
  },
  "language_info": {
   "codemirror_mode": {
    "name": "ipython",
    "version": 3
   },
   "file_extension": ".py",
   "mimetype": "text/x-python",
   "name": "python",
   "nbconvert_exporter": "python",
   "pygments_lexer": "ipython3",
   "version": "3.7.4"
  }
 },
 "nbformat": 4,
 "nbformat_minor": 2
}
